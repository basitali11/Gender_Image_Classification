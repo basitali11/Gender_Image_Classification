{
  "cells": [
    {
      "cell_type": "code",
      "execution_count": 1,
      "metadata": {
        "colab": {
          "base_uri": "https://localhost:8080/"
        },
        "id": "lXL0kPWtfm-J",
        "outputId": "a248740a-6f60-4a6b-a28d-3038fac11471"
      },
      "outputs": [
        {
          "name": "stdout",
          "output_type": "stream",
          "text": [
            "Mounted at /content/drive\n"
          ]
        }
      ],
      "source": [
        "# from google.colab import drive\n",
        "# drive.mount('/content/drive')"
      ]
    },
    {
      "cell_type": "code",
      "execution_count": null,
      "metadata": {
        "colab": {
          "base_uri": "https://localhost:8080/"
        },
        "id": "HPRJK6L8gDcS",
        "outputId": "07698b13-d55a-4ccb-b06d-311fe85c3893"
      },
      "outputs": [],
      "source": [
        "# !unzip drive/MyDrive/archive.zip"
      ]
    },
    {
      "cell_type": "markdown",
      "metadata": {
        "id": "b-9qgsuPh0HB"
      },
      "source": [
        "# **Import Libraries**"
      ]
    },
    {
      "cell_type": "code",
      "execution_count": 3,
      "metadata": {
        "id": "wkFxib_6kkmr"
      },
      "outputs": [],
      "source": [
        "import numpy as np\n",
        "import tensorflow\n",
        "from tensorflow.keras.layers import Conv2D, MaxPooling2D, Dense, Flatten, Dropout\n",
        "from tensorflow.keras.models import Sequential\n",
        "from tensorflow.keras.preprocessing.image import ImageDataGenerator\n",
        "from tensorflow.keras.optimizers import Adam"
      ]
    },
    {
      "cell_type": "markdown",
      "metadata": {
        "id": "PmzvbUk0tasy"
      },
      "source": [
        "## **Define Data Path**"
      ]
    },
    {
      "cell_type": "code",
      "execution_count": 4,
      "metadata": {
        "id": "1e6yvd5okooM"
      },
      "outputs": [],
      "source": [
        "train_path = '/content/Training'\n",
        "valid_path = '/content/Validation'"
      ]
    },
    {
      "cell_type": "markdown",
      "metadata": {
        "id": "kjrDlJTdtk-7"
      },
      "source": [
        "# **Data Preprocessing & Augmentation**"
      ]
    },
    {
      "cell_type": "code",
      "execution_count": 5,
      "metadata": {
        "id": "2n5Kp7k2qbne"
      },
      "outputs": [],
      "source": [
        "# Define image dimensions and batch size\n",
        "batch_size = 32\n",
        "image_size = (224, 224)"
      ]
    },
    {
      "cell_type": "code",
      "execution_count": 6,
      "metadata": {
        "colab": {
          "base_uri": "https://localhost:8080/"
        },
        "id": "kZitetX4tueg",
        "outputId": "ff0532fc-5882-4448-f4cb-94ea327dc3e5"
      },
      "outputs": [
        {
          "name": "stdout",
          "output_type": "stream",
          "text": [
            "Found 47009 images belonging to 2 classes.\n",
            "Found 11649 images belonging to 2 classes.\n"
          ]
        }
      ],
      "source": [
        "# Create data generators with data augmentation for training and validation\n",
        "train_datagen = ImageDataGenerator(\n",
        "    rescale=1.0/255.0,    # Normalize pixel values to [0, 1]\n",
        "    rotation_range=20,\n",
        "    width_shift_range=0.2,\n",
        "    height_shift_range=0.2,\n",
        "    shear_range=0.2,\n",
        "    zoom_range=0.2,\n",
        "    horizontal_flip=True\n",
        ")\n",
        "\n",
        "valid_datagen = ImageDataGenerator(rescale=1.0/255.0)   # Only rescale for validation data\n",
        "\n",
        "# Create data generators\n",
        "train_data = train_datagen.flow_from_directory(train_path, target_size=image_size, batch_size=batch_size, class_mode='categorical')\n",
        "valid_data = valid_datagen.flow_from_directory(valid_path, target_size=image_size, batch_size=batch_size, class_mode='categorical')"
      ]
    },
    {
      "cell_type": "markdown",
      "metadata": {
        "id": "2vXpvckquX2A"
      },
      "source": [
        "# **Build a CNN Model**"
      ]
    },
    {
      "cell_type": "code",
      "execution_count": 7,
      "metadata": {
        "id": "rYyWPDnpuSwt"
      },
      "outputs": [],
      "source": [
        "model = Sequential([\n",
        "    Conv2D(32, (3, 3), activation='relu', input_shape=(224, 224, 3)),\n",
        "    MaxPooling2D((2, 2)),\n",
        "    Conv2D(64, (3, 3), activation='relu'),\n",
        "    MaxPooling2D((2, 2)),\n",
        "    Conv2D(128, (3, 3), activation='relu'),\n",
        "    MaxPooling2D((2, 2)),\n",
        "    Flatten(),\n",
        "    Dense(128, activation='relu'),\n",
        "    Dropout(0.5),\n",
        "    Dense(2, activation='softmax')  # Output layer with '2' neurons for categorical classification\n",
        "])"
      ]
    },
    {
      "cell_type": "markdown",
      "metadata": {
        "id": "pURI5eIIvHX-"
      },
      "source": [
        "# **Compile the model**"
      ]
    },
    {
      "cell_type": "code",
      "execution_count": 8,
      "metadata": {
        "id": "Q4sDxN81vB81"
      },
      "outputs": [],
      "source": [
        "model.compile(loss='categorical_crossentropy', optimizer=Adam(learning_rate=0.0001), metrics=['accuracy'])"
      ]
    },
    {
      "cell_type": "markdown",
      "metadata": {
        "id": "pKujw1_dvhy0"
      },
      "source": [
        "# **Training the model**"
      ]
    },
    {
      "cell_type": "code",
      "execution_count": null,
      "metadata": {
        "colab": {
          "base_uri": "https://localhost:8080/"
        },
        "id": "7Lyhv7bQvdfn",
        "outputId": "ea708462-6489-478c-827f-49d7fe258c13"
      },
      "outputs": [
        {
          "name": "stdout",
          "output_type": "stream",
          "text": [
            "Epoch 1/3\n",
            " 191/1470 [==>...........................] - ETA: 8:42 - loss: 0.6545 - accuracy: 0.6121"
          ]
        }
      ],
      "source": [
        "history = model.fit(train_data, epochs=3, validation_data=valid_data)\n"
      ]
    },
    {
      "cell_type": "markdown",
      "metadata": {
        "id": "87GI9zmzv65f"
      },
      "source": [
        "# **Evaluate the model on test data**"
      ]
    },
    {
      "cell_type": "code",
      "execution_count": null,
      "metadata": {
        "id": "fMf9S4OAvqwy"
      },
      "outputs": [],
      "source": [
        "valid_loss, valid_accuracy = model.evaluate(valid_data)\n",
        "print(f'Validation Loss: {valid_loss}')\n",
        "print(f'Validation Accuracy: {valid_accuracy * 100:.2f}%')"
      ]
    },
    {
      "cell_type": "markdown",
      "metadata": {
        "id": "pWcv3hZUoJMQ"
      },
      "source": [
        "# **Save the trained model**"
      ]
    },
    {
      "cell_type": "code",
      "execution_count": null,
      "metadata": {
        "id": "TYOkGXgYoI1U"
      },
      "outputs": [],
      "source": [
        "model.save('gender_classification_model_CNN.h5')"
      ]
    }
  ],
  "metadata": {
    "accelerator": "GPU",
    "colab": {
      "gpuType": "T4",
      "provenance": []
    },
    "kernelspec": {
      "display_name": "Python 3",
      "name": "python3"
    },
    "language_info": {
      "name": "python"
    }
  },
  "nbformat": 4,
  "nbformat_minor": 0
}
