{
 "cells": [
  {
   "cell_type": "code",
   "execution_count": 7,
   "metadata": {},
   "outputs": [],
   "source": [
    "import os\n",
    "import numpy as np\n",
    "import cv2\n",
    "from sklearn.model_selection import train_test_split\n",
    "from sklearn.preprocessing import LabelEncoder\n",
    "import tensorflow as tf\n",
    "from tensorflow.keras import layers, models"
   ]
  },
  {
   "cell_type": "code",
   "execution_count": 8,
   "id": "026d277b",
   "metadata": {},
   "outputs": [],
   "source": [
    "# Define data directories\n",
    "male_dir = 'C:\\\\Users\\\\DeviL\\\\Desktop\\\\Image Classification\\\\Training\\\\male'\n",
    "female_dir = 'C:\\\\Users\\\\DeviL\\\\Desktop\\\\Image Classification\\\\Training\\\\female'\n",
    "\n",
    "# Initialize lists to store image data and labels\n",
    "X = []\n",
    "y = []\n",
    "\n",
    "# Load and preprocess images\n",
    "def preprocess_image(image_path):\n",
    "    img = cv2.imread(image_path)\n",
    "    img = cv2.cvtColor(img, cv2.COLOR_BGR2GRAY)  # Convert to grayscale\n",
    "    img = cv2.resize(img, (100, 100))  # Resize the image to a fixed size\n",
    "    return img\n",
    "\n",
    "for filename in os.listdir(male_dir):\n",
    "    img = preprocess_image(os.path.join(male_dir, filename))\n",
    "    X.append(img)\n",
    "    y.append(1)  # 1 represents 'male'\n",
    "\n",
    "for filename in os.listdir(female_dir):\n",
    "    img = preprocess_image(os.path.join(female_dir, filename))\n",
    "    X.append(img)\n",
    "    y.append(0)  # 0 represents 'female'\n",
    "\n",
    "X = np.array(X)\n",
    "y = np.array(y)\n"
   ]
  },
  {
   "cell_type": "code",
   "execution_count": 9,
   "id": "725fe7f4",
   "metadata": {},
   "outputs": [],
   "source": [
    "X_train, X_test, y_train, y_test = train_test_split(X, y, test_size=0.2, random_state=42)"
   ]
  },
  {
   "cell_type": "code",
   "execution_count": 10,
   "id": "8a495f73",
   "metadata": {},
   "outputs": [],
   "source": [
    "X_train = X_train / 255.0  # Normalize pixel values to the range [0, 1]\n",
    "X_test = X_test / 255.0\n"
   ]
  },
  {
   "cell_type": "code",
   "execution_count": 11,
   "id": "adbd1816",
   "metadata": {},
   "outputs": [],
   "source": [
    "model = models.Sequential([\n",
    "    layers.Flatten(input_shape=(100, 100)),  # Flatten the 100x100 input images\n",
    "    layers.Dense(128, activation='relu'),\n",
    "    layers.Dense(64, activation='relu'),\n",
    "    layers.Dense(1, activation='sigmoid')  # Output layer with sigmoid activation for binary classification\n",
    "])\n"
   ]
  },
  {
   "cell_type": "code",
   "execution_count": 12,
   "id": "c8c2bf7a",
   "metadata": {},
   "outputs": [],
   "source": [
    "model.compile(optimizer='adam', loss='binary_crossentropy', metrics=['accuracy'])\n"
   ]
  },
  {
   "cell_type": "code",
   "execution_count": 13,
   "id": "a553622f",
   "metadata": {},
   "outputs": [
    {
     "name": "stdout",
     "output_type": "stream",
     "text": [
      "Epoch 1/3\n",
      "941/941 [==============================] - 70s 69ms/step - loss: 0.4715 - accuracy: 0.7823 - val_loss: 0.3649 - val_accuracy: 0.8461\n",
      "Epoch 2/3\n",
      "941/941 [==============================] - 60s 63ms/step - loss: 0.3954 - accuracy: 0.8260 - val_loss: 0.3675 - val_accuracy: 0.8395\n",
      "Epoch 3/3\n",
      "941/941 [==============================] - 60s 63ms/step - loss: 0.3735 - accuracy: 0.8367 - val_loss: 0.3391 - val_accuracy: 0.8623\n"
     ]
    },
    {
     "data": {
      "text/plain": [
       "<keras.src.callbacks.History at 0x1a9442640d0>"
      ]
     },
     "execution_count": 13,
     "metadata": {},
     "output_type": "execute_result"
    }
   ],
   "source": [
    "model.fit(X_train, y_train, epochs=3, batch_size=32, validation_split=0.2)\n"
   ]
  },
  {
   "cell_type": "code",
   "execution_count": 14,
   "id": "8eaa68bc",
   "metadata": {},
   "outputs": [
    {
     "name": "stdout",
     "output_type": "stream",
     "text": [
      "294/294 [==============================] - 3s 10ms/step - loss: 0.3479 - accuracy: 0.8618\n",
      "Test accuracy: 0.8618379235267639\n"
     ]
    }
   ],
   "source": [
    "test_loss, test_accuracy = model.evaluate(X_test, y_test)\n",
    "print(f\"Test accuracy: {test_accuracy}\")\n"
   ]
  }
 ],
 "metadata": {
  "kernelspec": {
   "display_name": "Python 3",
   "language": "python",
   "name": "python3"
  },
  "language_info": {
   "codemirror_mode": {
    "name": "ipython",
    "version": 3
   },
   "file_extension": ".py",
   "mimetype": "text/x-python",
   "name": "python",
   "nbconvert_exporter": "python",
   "pygments_lexer": "ipython3",
   "version": "3.11.4"
  }
 },
 "nbformat": 4,
 "nbformat_minor": 5
}
