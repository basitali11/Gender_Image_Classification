{
 "cells": [
  {
   "cell_type": "markdown",
   "id": "0ab1983e",
   "metadata": {},
   "source": [
    "## **Import Libraries**"
   ]
  },
  {
   "cell_type": "code",
   "execution_count": 1,
   "id": "32e8eee3",
   "metadata": {},
   "outputs": [],
   "source": [
    "import os\n",
    "import numpy as np\n",
    "import cv2\n",
    "from sklearn.model_selection import train_test_split\n",
    "from sklearn.preprocessing import LabelEncoder\n",
    "from sklearn.svm import SVC\n",
    "from sklearn.metrics import accuracy_score, classification_report"
   ]
  },
  {
   "cell_type": "markdown",
   "id": "bd3e9ccb",
   "metadata": {},
   "source": [
    "## Load and preprocess the data\n"
   ]
  },
  {
   "cell_type": "code",
   "execution_count": 2,
   "id": "49b7a3d0",
   "metadata": {},
   "outputs": [],
   "source": [
    "# Define paths to the image dataset directories\n",
    "male_dir = 'C:/Users/DeviL/Desktop/Image Classification/Training/male'\n",
    "female_dir = 'C:/Users/DeviL/Desktop/Image Classification/Training/female'\n",
    "\n",
    "# Initialize lists to store image data and labels\n",
    "X = []\n",
    "y = []\n",
    "\n",
    "# Load and preprocess images\n",
    "def preprocess_image(image_path):\n",
    "    img = cv2.imread(image_path)\n",
    "    img = cv2.cvtColor(img, cv2.COLOR_BGR2GRAY)  # Convert to grayscale\n",
    "    img = cv2.resize(img, (100, 100))  # Resize the image to a fixed size\n",
    "    return img\n",
    "\n",
    "for filename in os.listdir(male_dir):\n",
    "    img = preprocess_image(os.path.join(male_dir, filename))\n",
    "    X.append(img)\n",
    "    y.append('male')\n",
    "\n",
    "for filename in os.listdir(female_dir):\n",
    "    img = preprocess_image(os.path.join(female_dir, filename))\n",
    "    X.append(img)\n",
    "    y.append('female')\n",
    "\n",
    "X = np.array(X)\n",
    "y = np.array(y)\n"
   ]
  },
  {
   "cell_type": "markdown",
   "id": "667d1ca5",
   "metadata": {},
   "source": [
    "## Split Data into Training and Testing Sets"
   ]
  },
  {
   "cell_type": "code",
   "execution_count": 3,
   "id": "0cd8a2c8",
   "metadata": {},
   "outputs": [],
   "source": [
    "X_train, X_test, y_train, y_test = train_test_split(X, y, test_size=0.2, random_state=42)"
   ]
  },
  {
   "cell_type": "markdown",
   "id": "5bae9254",
   "metadata": {},
   "source": [
    "## Flatten and Normalize the Data"
   ]
  },
  {
   "cell_type": "code",
   "execution_count": 4,
   "id": "8d79783b",
   "metadata": {},
   "outputs": [],
   "source": [
    "X_train = X_train.reshape(X_train.shape[0], -1) / 255.0  # Flatten and normalize\n",
    "X_test = X_test.reshape(X_test.shape[0], -1) / 255.0"
   ]
  },
  {
   "cell_type": "markdown",
   "id": "6ae7745e",
   "metadata": {},
   "source": [
    "## Encode Labels"
   ]
  },
  {
   "cell_type": "code",
   "execution_count": 5,
   "id": "7da4abfd",
   "metadata": {},
   "outputs": [],
   "source": [
    "le = LabelEncoder()\n",
    "y_train = le.fit_transform(y_train)\n",
    "y_test = le.transform(y_test)"
   ]
  },
  {
   "cell_type": "markdown",
   "id": "dd000a33",
   "metadata": {},
   "source": [
    "## Train a Classifier"
   ]
  },
  {
   "cell_type": "code",
   "execution_count": null,
   "id": "7e2cca05",
   "metadata": {},
   "outputs": [],
   "source": [
    "import sklearn.metrics as sm\n",
    "from sklearn.utils import all_estimators\n",
    "estimators = all_estimators(type_filter = 'classifier')\n",
    "model_name = []\n",
    "model_precision = []\n",
    "for name, get_model in estimators:\n",
    "    try:\n",
    "        model = get_model()\n",
    "        model.fit(X_train,y_train)\n",
    "        pred_y = model.predict(X_test)\n",
    "        model_precision.append(sm.precision_score(y_test, pred_y))\n",
    "        model_name.append(name)\n",
    "    except Exception as e:\n",
    "        print('Unable to import', name)\n",
    "        print(e)"
   ]
  },
  {
   "cell_type": "code",
   "execution_count": null,
   "id": "1b37d148",
   "metadata": {},
   "outputs": [],
   "source": [
    "accuracy = accuracy_score(y_test, y_pred)\n",
    "report = classification_report(y_test, y_pred)\n",
    "\n",
    "print(f\"Accuracy: {accuracy}\")\n",
    "print(report)"
   ]
  }
 ],
 "metadata": {
  "kernelspec": {
   "display_name": "Python 3 (ipykernel)",
   "language": "python",
   "name": "python3"
  },
  "language_info": {
   "codemirror_mode": {
    "name": "ipython",
    "version": 3
   },
   "file_extension": ".py",
   "mimetype": "text/x-python",
   "name": "python",
   "nbconvert_exporter": "python",
   "pygments_lexer": "ipython3",
   "version": "3.11.4"
  }
 },
 "nbformat": 4,
 "nbformat_minor": 5
}
